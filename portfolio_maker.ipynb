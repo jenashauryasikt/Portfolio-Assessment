{
 "cells": [
  {
   "cell_type": "code",
   "execution_count": 1,
   "metadata": {},
   "outputs": [],
   "source": [
    "import os\n",
    "import numpy as np\n",
    "import pandas as pd\n",
    "from datetime import datetime, timedelta\n",
    "import random\n",
    "from tqdm import tqdm"
   ]
  },
  {
   "cell_type": "code",
   "execution_count": 2,
   "metadata": {},
   "outputs": [],
   "source": [
    "random.seed(42)\n",
    "state = random.getstate()\n",
    "random.setstate(state=state)"
   ]
  },
  {
   "cell_type": "code",
   "execution_count": 3,
   "metadata": {},
   "outputs": [],
   "source": [
    "np.random.seed(42)\n",
    "np_state = np.random.get_state()\n",
    "np.random.set_state(np_state)"
   ]
  },
  {
   "cell_type": "code",
   "execution_count": 4,
   "metadata": {},
   "outputs": [],
   "source": [
    "def choose_frequency():\n",
    "    marker = int(random.random() * 4)\n",
    "    choices = {0: 'daily', 1: 'weekly', 2: 'monthly', 3: 'rarely'}\n",
    "    return choices.get(marker, 3)"
   ]
  },
  {
   "cell_type": "code",
   "execution_count": 5,
   "metadata": {},
   "outputs": [
    {
     "data": {
      "text/plain": [
       "'monthly'"
      ]
     },
     "execution_count": 5,
     "metadata": {},
     "output_type": "execute_result"
    }
   ],
   "source": [
    "choose_frequency()"
   ]
  },
  {
   "cell_type": "code",
   "execution_count": 6,
   "metadata": {},
   "outputs": [],
   "source": [
    "def choose_sector():\n",
    "    marker = int(random.random() * 5)\n",
    "    choices = {0: 'tech', 1: 'healthcare', 2: 'finance', 3: 'consumer_goods', 4: 'uniform'}\n",
    "    return choices.get(marker, 4)"
   ]
  },
  {
   "cell_type": "code",
   "execution_count": 7,
   "metadata": {},
   "outputs": [
    {
     "data": {
      "text/plain": [
       "'tech'"
      ]
     },
     "execution_count": 7,
     "metadata": {},
     "output_type": "execute_result"
    }
   ],
   "source": [
    "choose_sector()"
   ]
  },
  {
   "cell_type": "code",
   "execution_count": 8,
   "metadata": {},
   "outputs": [],
   "source": [
    "def choose_buy_price(row):\n",
    "    return np.random.uniform(row['Low'], row['High'])"
   ]
  },
  {
   "cell_type": "code",
   "execution_count": 9,
   "metadata": {},
   "outputs": [],
   "source": [
    "def choose_sell_price(row, buy_price):\n",
    "    return np.random.uniform(buy_price, row['High'])"
   ]
  },
  {
   "cell_type": "code",
   "execution_count": 10,
   "metadata": {},
   "outputs": [],
   "source": [
    "def get_dividends(row):\n",
    "    return row['Dividends'].item()"
   ]
  },
  {
   "cell_type": "code",
   "execution_count": 11,
   "metadata": {},
   "outputs": [],
   "source": [
    "def generate_sum_split(target, count=5, min_value=None, max_value=None, max_attempts=100):\n",
    "    if min_value is None:\n",
    "        min_value = 0\n",
    "    if max_value is None:\n",
    "        max_value = target\n",
    "\n",
    "    if min_value * count > target or max_value * count < target:\n",
    "        raise ValueError(\"Impossible to generate splits within given constraints\")\n",
    "\n",
    "    for attempt in range(max_attempts):\n",
    "        # Generate count-1 random points between 0 and target\n",
    "        points = sorted([random.uniform(0, target) for _ in range(count-1)])\n",
    "        points = [0] + points + [target]\n",
    "        \n",
    "        # Calculate differences between adjacent points\n",
    "        result = [points[i+1] - points[i] for i in range(count)]\n",
    "        \n",
    "        # Check if all splits are within the specified range\n",
    "        if all(min_value <= split <= max_value for split in result):\n",
    "            return result\n",
    "\n",
    "    raise ValueError(f\"Failed to generate valid split after {max_attempts} attempts\")"
   ]
  },
  {
   "cell_type": "code",
   "execution_count": 12,
   "metadata": {},
   "outputs": [],
   "source": [
    "def calculate_portfolio_value(holdings, stocks_data, date):\n",
    "    total_value = 0\n",
    "    for stock, shares in holdings.items():\n",
    "        for sector, stocks in stocks_data.items():\n",
    "            if stock in stocks:\n",
    "                data = stocks[stock]\n",
    "                if date in data['Date'].values:\n",
    "                    close_price = data.loc[data['Date'] == date, 'Close'].values[0]\n",
    "                    total_value += shares * close_price\n",
    "                break\n",
    "    return total_value"
   ]
  },
  {
   "cell_type": "code",
   "execution_count": 13,
   "metadata": {},
   "outputs": [],
   "source": [
    "def create_portfolio(portfolio_id, sectors, start_date, end_date, stocks_data, freq_dict):\n",
    "    portfolio = []\n",
    "\n",
    "    frequency = choose_frequency()\n",
    "    main_sector = choose_sector()\n",
    "    remain_sectors = sectors.copy()\n",
    "\n",
    "    # set sector probabilities\n",
    "    if main_sector != 'uniform':\n",
    "        sector_focus = random.uniform(0.6, 0.8)\n",
    "        remainder = 1.0 - sector_focus\n",
    "        remain_sectors.remove(main_sector)\n",
    "        splits = generate_sum_split(target=remainder, count=len(remain_sectors))\n",
    "        sector_splits = {main_sector: sector_focus}\n",
    "        for i, sec in enumerate(remain_sectors):\n",
    "            sector_splits[sec] = splits[i]\n",
    "    else:\n",
    "        splits = generate_sum_split(target=1.0, count=len(remain_sectors), min_value=0.10, max_value=0.40)\n",
    "        sector_splits = {}\n",
    "        for i, sec in enumerate(remain_sectors):\n",
    "            sector_splits[sec] = splits[i]\n",
    "    \n",
    "    # normalize probabilities\n",
    "    total_probs = sum(sector_splits.values())\n",
    "    sector_probs = {key: value / total_probs for key, value in sector_splits.items()}\n",
    "        \n",
    "    current_holdings = {stock: 0 for sector, stocks in stocks_data.items() for stock in stocks}\n",
    "    current_investments = {stock: 0 for sector, stocks in stocks_data.items() for stock in stocks}\n",
    "    date = pd.to_datetime(start_date).date()\n",
    "    end_date = pd.to_datetime(end_date).date()\n",
    "    while date <= end_date:\n",
    "        # choose sector\n",
    "        sector = random.choices(list(sector_probs.keys()), weights=sector_probs.values(), k=1)[0]\n",
    "        \n",
    "        # randomly pick a stock from that sector\n",
    "        stock = random.choice(list(stocks_data[sector].keys()))\n",
    "        data = stocks_data[sector][stock]\n",
    "        # date time format\n",
    "        data['Date'] = pd.to_datetime(data['Date']).dt.date\n",
    "        if (date in data['Date'].values):\n",
    "            returns = 0\n",
    "\n",
    "            buy_price = choose_buy_price(data.loc[data['Date'] == date])[0]\n",
    "            buy_vol = random.uniform(freq_dict[frequency][0], freq_dict[frequency][1])\n",
    "            sell_price = choose_sell_price(data.loc[data['Date'] == date], buy_price)[0]\n",
    "            sell_vol = random.uniform(freq_dict[frequency][0], freq_dict[frequency][1])\n",
    "            dividends = get_dividends(data.loc[data['Date'] == date])\n",
    "            \n",
    "            # update current holdings\n",
    "            current_holdings[stock] += buy_vol\n",
    "            current_investments[stock] += buy_vol * buy_price\n",
    "\n",
    "            # choose to sell or not, say 25% inclination in a day to sell\n",
    "            sell_chance = (random.random() < 0.25)\n",
    "            if sell_chance and sell_vol <= current_holdings[stock]:\n",
    "                current_holdings[stock] -= sell_vol\n",
    "                current_investments[stock] -= sell_vol * buy_price\n",
    "                returns += sell_vol * (sell_price - buy_price)\n",
    "            else:\n",
    "                sell_price = 0.0\n",
    "                sell_vol = 0.0\n",
    "            \n",
    "            # if sell everything at that day close price\n",
    "            portfolio_value = calculate_portfolio_value(current_holdings, stocks_data, date)\n",
    "            total_curr_investments = sum(value for value in current_investments.values())\n",
    "            returns = returns + portfolio_value - total_curr_investments + dividends\n",
    "            portfolio.append([date, stock, sector, buy_price, buy_vol, sell_price, sell_vol, data.loc[data['Date'] == date, 'Dividends'].item(), current_holdings[stock], total_curr_investments, returns])\n",
    "            \n",
    "            # add time skip\n",
    "            gap = freq_dict[frequency][-1]\n",
    "            delta = random.uniform(0.9*gap, 1.1*gap+1)\n",
    "            date = date + timedelta(days=int(delta))\n",
    "        else:\n",
    "            date = date + timedelta(days=1)\n",
    "            \n",
    "    \n",
    "    df = pd.DataFrame(portfolio, columns=['Date', 'Symbol', 'Sector', 'Buy Price', 'Buy Volume', 'Sell Price', 'Sell Volume', 'Dividends', 'Stock Shares', 'Investment Total', 'Returns'])\n",
    "    df.to_csv(f'Portfolios/{main_sector}/{portfolio_id}.csv', index=False)\n",
    "    return main_sector"
   ]
  },
  {
   "cell_type": "code",
   "execution_count": 14,
   "metadata": {},
   "outputs": [],
   "source": [
    "main_sectors = {'tech', 'finance', 'healthcare', 'consumer_goods', 'uniform'}\n",
    "for sec in main_sectors:\n",
    "    base = 'Portfolios'\n",
    "    directory = os.path.join(base, sec)\n",
    "    if not os.path.exists(directory):\n",
    "        os.makedirs(directory)"
   ]
  },
  {
   "cell_type": "code",
   "execution_count": 15,
   "metadata": {},
   "outputs": [],
   "source": [
    "# trade volume ranges and day skips dictated by frequency\n",
    "freq_dict = {'daily': (0, 1, 1), 'weekly': (0.5, 5, 7), 'monthly': (3, 15, 30), 'rarely': (0, 15, 90)}\n",
    "\n",
    "sectors = {'tech', 'finance', 'healthcare', 'consumer_goods'}"
   ]
  },
  {
   "cell_type": "code",
   "execution_count": 16,
   "metadata": {},
   "outputs": [],
   "source": [
    "stocks_data = {}\n",
    "base_dir = 'Historical'\n",
    "for sector in os.listdir(base_dir):\n",
    "    sector_path = os.path.join(base_dir, sector)\n",
    "    \n",
    "    # Check if it's a directory\n",
    "    if os.path.isdir(sector_path):\n",
    "        # Initialize the sector key in the dictionary\n",
    "        stocks_data[sector] = {}\n",
    "    \n",
    "        for filename in os.listdir(sector_path):\n",
    "            if filename.endswith('.csv'):\n",
    "                stock_symbol = filename.split('_')[0]\n",
    "                file_path = os.path.join(sector_path, filename)\n",
    "                # load the csv file \n",
    "                stocks_data[sector][stock_symbol] = pd.read_csv(file_path)"
   ]
  },
  {
   "cell_type": "code",
   "execution_count": 17,
   "metadata": {},
   "outputs": [
    {
     "name": "stderr",
     "output_type": "stream",
     "text": [
      "100%|██████████| 200/200 [07:22<00:00,  2.21s/it]"
     ]
    },
    {
     "name": "stdout",
     "output_type": "stream",
     "text": [
      "{'healthcare': 47, 'finance': 42, 'uniform': 38, 'tech': 41, 'consumer_goods': 32}\n"
     ]
    },
    {
     "name": "stderr",
     "output_type": "stream",
     "text": [
      "\n"
     ]
    }
   ],
   "source": [
    "total = 200\n",
    "samples = np.arange(1, total + 1)\n",
    "sector_counts = {}\n",
    "for i in tqdm(samples, total=len(samples)):\n",
    "    name = f'portfolio_{i}'\n",
    "    main_sector = create_portfolio(name, sectors, datetime(2021, 1, 1), datetime(2023, 12, 31), stocks_data, freq_dict)\n",
    "    sector_counts[main_sector] = sector_counts.get(main_sector, 0) + 1\n",
    "    \n",
    "print(sector_counts)"
   ]
  },
  {
   "cell_type": "code",
   "execution_count": 18,
   "metadata": {},
   "outputs": [
    {
     "name": "stdout",
     "output_type": "stream",
     "text": [
      "200\n"
     ]
    }
   ],
   "source": [
    "portfolios = {}\n",
    "\n",
    "base_dir = 'Portfolios'\n",
    "for sector in os.listdir(base_dir):\n",
    "    sector_path = os.path.join(base_dir, sector)\n",
    "    if os.path.isdir(sector_path):\n",
    "        for pf_name in os.listdir(sector_path):\n",
    "            pf_path = os.path.join(sector_path, pf_name)\n",
    "            data = pd.read_csv(pf_path)\n",
    "            name = pf_name.split('.')[0]\n",
    "            portfolios[name] = data\n",
    "\n",
    "print(len(portfolios))"
   ]
  },
  {
   "cell_type": "code",
   "execution_count": 19,
   "metadata": {},
   "outputs": [],
   "source": [
    "portfolio_stats = []\n",
    "\n",
    "for pf_name, pf_data in portfolios.items():\n",
    "    # avg gap\n",
    "    pf_data['Date'] = pd.to_datetime(pf_data['Date']).dt.date\n",
    "    avg_gap = (pf_data['Date'].diff().mean()).days\n",
    "    \n",
    "    # sector partiality\n",
    "    sector_to_number = {'tech': 0, 'finance': 1, 'healthcare': 2, 'consumer_goods': 3}\n",
    "    sector_counts = pf_data['Sector'].value_counts()\n",
    "    total_entries = len(pf_data)\n",
    "    sector_percentages = sector_counts / total_entries\n",
    "\n",
    "    # deviation from uniform distribution\n",
    "    uniform_percentage = 1 / len(sector_to_number)\n",
    "    deviations = {sector: sector_percentages.get(sector, 0) - uniform_percentage for sector in sector_to_number.keys()}\n",
    "    \n",
    "    # sector with the maximum positive deviation indicator\n",
    "    max_deviation_sector = max(deviations, key=lambda k: deviations[k])\n",
    "    max_deviation = deviations[max_deviation_sector]\n",
    "    \n",
    "    # Combine the signed indicator with the sector number\n",
    "    sector_indicator = max_deviation + sector_to_number[max_deviation_sector]\n",
    "\n",
    "    # avg buy/sell stats\n",
    "    avg_buy_price = pf_data['Buy Price'].mean()\n",
    "    avg_buy_vol = pf_data['Buy Volume'].mean()\n",
    "    avg_sell_price = pf_data['Sell Price'].mean()\n",
    "    avg_sell_vol = pf_data['Sell Volume'].mean()\n",
    "\n",
    "    avg_dividends = pf_data['Dividends'].mean()\n",
    "\n",
    "    # total investments over the period\n",
    "    total_investment = pf_data['Investment Total'].iloc[-1]\n",
    "\n",
    "    portfolio_stats.append([pf_name, avg_gap, sector_indicator, avg_buy_price, avg_buy_vol, avg_sell_price, avg_sell_vol, avg_dividends, total_investment])\n",
    "    \n",
    "pf_stats_df = pd.DataFrame(portfolio_stats, columns=['Porfolio Index', 'Frequency', 'Sector', 'Buy Price', 'Buy Volume', 'Sell Price', 'Sell Volume', 'Dividends', 'Total Investment'])\n",
    "pf_stats_df.to_csv('Portfolio_stats.csv', index=False)"
   ]
  },
  {
   "cell_type": "code",
   "execution_count": 20,
   "metadata": {},
   "outputs": [
    {
     "data": {
      "image/png": "[encoded data removed]",
      "text/plain": [
       "<Figure size 640x480 with 1 Axes>"
      ]
     },
     "metadata": {},
     "output_type": "display_data"
    }
   ],
   "source": [
    "import matplotlib.pyplot as plt\n",
    "import pandas as pd\n",
    "\n",
    "df = pd.read_csv('Portfolios/healthcare/portfolio_1.csv')\n",
    "\n",
    "plt.figure()\n",
    "plt.plot(df['Date'], df['Returns'])\n",
    "plt.show()"
   ]
  }
 ],
 "metadata": {
  "kernelspec": {
   "display_name": "newcortex",
   "language": "python",
   "name": "python3"
  },
  "language_info": {
   "codemirror_mode": {
    "name": "ipython",
    "version": 3
   },
   "file_extension": ".py",
   "mimetype": "text/x-python",
   "name": "python",
   "nbconvert_exporter": "python",
   "pygments_lexer": "ipython3",
   "version": "3.9.18"
  }
 },
 "nbformat": 4,
 "nbformat_minor": 2
}
